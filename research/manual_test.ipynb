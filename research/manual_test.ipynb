{
 "cells": [
  {
   "cell_type": "code",
   "execution_count": 1,
   "metadata": {},
   "outputs": [
    {
     "data": {
      "text/plain": [
       "('yuH4iRcggMw', 0)"
      ]
     },
     "execution_count": 1,
     "metadata": {},
     "output_type": "execute_result"
    }
   ],
   "source": [
    "URL1 = \"https://www.youtube.com/watch?v=yuH4iRcggMw\"\n",
    "URL1.split('=')[-1],0"
   ]
  },
  {
   "cell_type": "code",
   "execution_count": 2,
   "metadata": {},
   "outputs": [
    {
     "data": {
      "text/plain": [
       "'yuH4iRcggMw'"
      ]
     },
     "execution_count": 2,
     "metadata": {},
     "output_type": "execute_result"
    }
   ],
   "source": [
    "URL2 = \"https://youtu.be/yuH4iRcggMw\"\n",
    "URL2.split('/')[-1]"
   ]
  },
  {
   "cell_type": "code",
   "execution_count": 3,
   "metadata": {},
   "outputs": [
    {
     "data": {
      "text/plain": [
       "['https://youtu.be/yuH4iRcggMw?t', '60']"
      ]
     },
     "execution_count": 3,
     "metadata": {},
     "output_type": "execute_result"
    }
   ],
   "source": [
    "URL3 = \"https://youtu.be/yuH4iRcggMw?t=60\"\n",
    "URL3.split('=')"
   ]
  },
  {
   "cell_type": "code",
   "execution_count": 4,
   "metadata": {},
   "outputs": [
    {
     "data": {
      "text/plain": [
       "['https:', '', 'youtu.be', 'yuH4iRcggMw?t']"
      ]
     },
     "execution_count": 4,
     "metadata": {},
     "output_type": "execute_result"
    }
   ],
   "source": [
    "URL3.split('=')[0].split(\"/\")"
   ]
  },
  {
   "cell_type": "code",
   "execution_count": 5,
   "metadata": {},
   "outputs": [
    {
     "data": {
      "text/plain": [
       "'yuH4iRcggMw'"
      ]
     },
     "execution_count": 5,
     "metadata": {},
     "output_type": "execute_result"
    }
   ],
   "source": [
    "URL3.split('=')[0].split(\"/\")[-1][:-2]"
   ]
  },
  {
   "cell_type": "code",
   "execution_count": 6,
   "metadata": {},
   "outputs": [
    {
     "data": {
      "text/plain": [
       "['https://www.youtube.com/watch?v', 'yuH4iRcggMw&t', '60s']"
      ]
     },
     "execution_count": 6,
     "metadata": {},
     "output_type": "execute_result"
    }
   ],
   "source": [
    "URL4 = \"https://www.youtube.com/watch?v=yuH4iRcggMw&t=60s\"\n",
    "URL4.split(\"=\")\n"
   ]
  },
  {
   "cell_type": "code",
   "execution_count": null,
   "metadata": {},
   "outputs": [],
   "source": []
  },
  {
   "cell_type": "code",
   "execution_count": 7,
   "metadata": {},
   "outputs": [
    {
     "data": {
      "text/plain": [
       "'yuH4iRcggMw'"
      ]
     },
     "execution_count": 7,
     "metadata": {},
     "output_type": "execute_result"
    }
   ],
   "source": [
    "URL4.split(\"=\")[-2][:-2]\n"
   ]
  },
  {
   "cell_type": "markdown",
   "metadata": {},
   "source": []
  },
  {
   "cell_type": "code",
   "execution_count": 8,
   "metadata": {},
   "outputs": [],
   "source": [
    "from NYRenderer import render_youtube_video"
   ]
  },
  {
   "cell_type": "code",
   "execution_count": 9,
   "metadata": {},
   "outputs": [
    {
     "name": "stdout",
     "output_type": "stream",
     "text": [
      "[2023-03-11 19:05:39,743: INFO: youtube]: video starts at: 0\n",
      "[2023-03-11 19:05:39,788: INFO: youtube]: embed URL: https://www.youtube.com/embed/yuH4iRcggMw?start=0\n"
     ]
    },
    {
     "data": {
      "text/html": [
       "<iframe \n",
       "            width=\"780\" height=\"600\" \n",
       "            src=\"https://www.youtube.com/embed/yuH4iRcggMw?start=0\" \n",
       "            title=\"YouTube video player\" \n",
       "            frameborder=\"0\" \n",
       "            allow=\"accelerometer; \n",
       "            autoplay; clipboard-write; \n",
       "            encrypted-media; gyroscope; \n",
       "            picture-in-picture; web-share\" \n",
       "            allowfullscreen></iframe>\n",
       "            "
      ],
      "text/plain": [
       "<IPython.core.display.HTML object>"
      ]
     },
     "metadata": {},
     "output_type": "display_data"
    },
    {
     "data": {
      "text/plain": [
       "'success'"
      ]
     },
     "execution_count": 9,
     "metadata": {},
     "output_type": "execute_result"
    }
   ],
   "source": [
    "render_youtube_video(URL1)"
   ]
  },
  {
   "cell_type": "code",
   "execution_count": 10,
   "metadata": {},
   "outputs": [
    {
     "name": "stdout",
     "output_type": "stream",
     "text": [
      "[2023-03-11 19:05:40,808: INFO: youtube]: video starts at: 0\n",
      "[2023-03-11 19:05:40,809: INFO: youtube]: embed URL: https://www.youtube.com/embed/yuH4iRcggMw?start=0\n"
     ]
    },
    {
     "data": {
      "text/html": [
       "<iframe \n",
       "            width=\"780\" height=\"600\" \n",
       "            src=\"https://www.youtube.com/embed/yuH4iRcggMw?start=0\" \n",
       "            title=\"YouTube video player\" \n",
       "            frameborder=\"0\" \n",
       "            allow=\"accelerometer; \n",
       "            autoplay; clipboard-write; \n",
       "            encrypted-media; gyroscope; \n",
       "            picture-in-picture; web-share\" \n",
       "            allowfullscreen></iframe>\n",
       "            "
      ],
      "text/plain": [
       "<IPython.core.display.HTML object>"
      ]
     },
     "metadata": {},
     "output_type": "display_data"
    },
    {
     "data": {
      "text/plain": [
       "'success'"
      ]
     },
     "execution_count": 10,
     "metadata": {},
     "output_type": "execute_result"
    }
   ],
   "source": [
    "render_youtube_video(URL2)"
   ]
  },
  {
   "cell_type": "code",
   "execution_count": 11,
   "metadata": {},
   "outputs": [
    {
     "name": "stdout",
     "output_type": "stream",
     "text": [
      "[2023-03-11 19:05:41,747: INFO: youtube]: video starts at: 60\n",
      "[2023-03-11 19:05:41,748: INFO: youtube]: embed URL: https://www.youtube.com/embed/yuH4iRcggMw?start=60\n"
     ]
    },
    {
     "data": {
      "text/html": [
       "<iframe \n",
       "            width=\"780\" height=\"600\" \n",
       "            src=\"https://www.youtube.com/embed/yuH4iRcggMw?start=60\" \n",
       "            title=\"YouTube video player\" \n",
       "            frameborder=\"0\" \n",
       "            allow=\"accelerometer; \n",
       "            autoplay; clipboard-write; \n",
       "            encrypted-media; gyroscope; \n",
       "            picture-in-picture; web-share\" \n",
       "            allowfullscreen></iframe>\n",
       "            "
      ],
      "text/plain": [
       "<IPython.core.display.HTML object>"
      ]
     },
     "metadata": {},
     "output_type": "display_data"
    },
    {
     "data": {
      "text/plain": [
       "'success'"
      ]
     },
     "execution_count": 11,
     "metadata": {},
     "output_type": "execute_result"
    }
   ],
   "source": [
    "render_youtube_video(URL3)"
   ]
  },
  {
   "cell_type": "code",
   "execution_count": 12,
   "metadata": {},
   "outputs": [
    {
     "name": "stdout",
     "output_type": "stream",
     "text": [
      "[2023-03-11 19:05:42,647: INFO: youtube]: video starts at: 60\n",
      "[2023-03-11 19:05:42,648: INFO: youtube]: embed URL: https://www.youtube.com/embed/yuH4iRcggMw?start=60\n"
     ]
    },
    {
     "data": {
      "text/html": [
       "<iframe \n",
       "            width=\"780\" height=\"600\" \n",
       "            src=\"https://www.youtube.com/embed/yuH4iRcggMw?start=60\" \n",
       "            title=\"YouTube video player\" \n",
       "            frameborder=\"0\" \n",
       "            allow=\"accelerometer; \n",
       "            autoplay; clipboard-write; \n",
       "            encrypted-media; gyroscope; \n",
       "            picture-in-picture; web-share\" \n",
       "            allowfullscreen></iframe>\n",
       "            "
      ],
      "text/plain": [
       "<IPython.core.display.HTML object>"
      ]
     },
     "metadata": {},
     "output_type": "display_data"
    },
    {
     "data": {
      "text/plain": [
       "'success'"
      ]
     },
     "execution_count": 12,
     "metadata": {},
     "output_type": "execute_result"
    }
   ],
   "source": [
    "render_youtube_video(URL4)"
   ]
  },
  {
   "cell_type": "code",
   "execution_count": 13,
   "metadata": {},
   "outputs": [],
   "source": [
    "\n",
    "from NYRenderer.custom_exception import InvalideURLException\n",
    "from NYRenderer.logger import logger\n",
    "\n",
    "def get_time_info(URL: str) -> int:  # type: ignore\n",
    "    def _verify_vid_id_len(vid_id, __expected_len=11):\n",
    "        len_of_vid_id = len(vid_id)\n",
    "        if len_of_vid_id != __expected_len:\n",
    "            raise InvalideURLException(\n",
    "                f\"Invalid video id with length: {len_of_vid_id}, expected: {__expected_len}\"\n",
    "            )\n",
    "    try:\n",
    "        split_val = URL.split('=')\n",
    "        if len(split_val) > 3:\n",
    "            raise InvalideURLException\n",
    "        if \"watch\" in URL:\n",
    "            if (\"&t\" in URL):\n",
    "                vid_id, time = split_val[-2][:-2], int(split_val[-1][:-1])\n",
    "                _verify_vid_id_len(vid_id)\n",
    "                logger.info(\"video starts at: %s\", time)\n",
    "                return time\n",
    "            else:\n",
    "                vid_id, time = split_val[-1], 0\n",
    "                _verify_vid_id_len(vid_id)\n",
    "                logger.info(\"video starts at: %s\", time)\n",
    "                return time\n",
    "        else:\n",
    "            if \"=\" in URL and \"?t\" in URL:\n",
    "                vid_id, time = split_val[0].split('/')[-1][:-2], int(split_val[-1])\n",
    "                _verify_vid_id_len(vid_id)\n",
    "                logger.info(\"video starts at: %s\", time)\n",
    "                return time\n",
    "            else:\n",
    "                vid_id, time = URL.split('/')[-1], 0\n",
    "                _verify_vid_id_len(vid_id)\n",
    "                logger.info(\"video starts at: %s\", time)\n",
    "                return time\n",
    "    except Exception:\n",
    "        raise InvalideURLException\n"
   ]
  },
  {
   "cell_type": "code",
   "execution_count": 14,
   "metadata": {},
   "outputs": [
    {
     "ename": "InvalideURLException",
     "evalue": "Not Valid URL",
     "output_type": "error",
     "traceback": [
      "\u001b[1;31m---------------------------------------------------------------------------\u001b[0m",
      "\u001b[1;31mInvalideURLException\u001b[0m                      Traceback (most recent call last)",
      "Cell \u001b[1;32mIn[13], line 14\u001b[0m, in \u001b[0;36mget_time_info\u001b[1;34m(URL)\u001b[0m\n\u001b[0;32m     13\u001b[0m \u001b[39mif\u001b[39;00m \u001b[39mlen\u001b[39m(split_val) \u001b[39m>\u001b[39m \u001b[39m3\u001b[39m:\n\u001b[1;32m---> 14\u001b[0m     \u001b[39mraise\u001b[39;00m InvalideURLException\n\u001b[0;32m     15\u001b[0m \u001b[39mif\u001b[39;00m \u001b[39m\"\u001b[39m\u001b[39mwatch\u001b[39m\u001b[39m\"\u001b[39m \u001b[39min\u001b[39;00m URL:\n",
      "\u001b[1;31mInvalideURLException\u001b[0m: Not Valid URL",
      "\nDuring handling of the above exception, another exception occurred:\n",
      "\u001b[1;31mInvalideURLException\u001b[0m                      Traceback (most recent call last)",
      "Cell \u001b[1;32mIn[14], line 2\u001b[0m\n\u001b[0;32m      1\u001b[0m \u001b[39mtry\u001b[39;00m:\n\u001b[1;32m----> 2\u001b[0m     get_time_info(\u001b[39m\"\u001b[39;49m\u001b[39mhttps://www.youtube.com/watch?v==yuH4iRcggMw&t=60s\u001b[39;49m\u001b[39m\"\u001b[39;49m)\n\u001b[0;32m      3\u001b[0m \u001b[39mexcept\u001b[39;00m \u001b[39mException\u001b[39;00m:\n",
      "Cell \u001b[1;32mIn[13], line 38\u001b[0m, in \u001b[0;36mget_time_info\u001b[1;34m(URL)\u001b[0m\n\u001b[0;32m     37\u001b[0m \u001b[39mexcept\u001b[39;00m \u001b[39mException\u001b[39;00m:\n\u001b[1;32m---> 38\u001b[0m     \u001b[39mraise\u001b[39;00m InvalideURLException\n",
      "\u001b[1;31mInvalideURLException\u001b[0m: Not Valid URL",
      "\nDuring handling of the above exception, another exception occurred:\n",
      "\u001b[1;31mInvalideURLException\u001b[0m                      Traceback (most recent call last)",
      "Cell \u001b[1;32mIn[14], line 4\u001b[0m\n\u001b[0;32m      2\u001b[0m     get_time_info(\u001b[39m\"\u001b[39m\u001b[39mhttps://www.youtube.com/watch?v==yuH4iRcggMw&t=60s\u001b[39m\u001b[39m\"\u001b[39m)\n\u001b[0;32m      3\u001b[0m \u001b[39mexcept\u001b[39;00m \u001b[39mException\u001b[39;00m:\n\u001b[1;32m----> 4\u001b[0m     \u001b[39mraise\u001b[39;00m InvalideURLException\n",
      "\u001b[1;31mInvalideURLException\u001b[0m: Not Valid URL"
     ]
    }
   ],
   "source": [
    "try:\n",
    "    get_time_info(\"https://www.youtube.com/watch?v==yuH4iRcggMw&t=60s\")\n",
    "except Exception:\n",
    "    raise InvalideURLException"
   ]
  },
  {
   "cell_type": "code",
   "execution_count": 15,
   "metadata": {},
   "outputs": [],
   "source": [
    "from NYRenderer import render_site\n",
    "from NYRenderer.custom_exception import InvalideURLException\n"
   ]
  },
  {
   "cell_type": "code",
   "execution_count": 16,
   "metadata": {},
   "outputs": [],
   "source": [
    "url = \"http://pytorch.org/\""
   ]
  },
  {
   "cell_type": "code",
   "execution_count": 17,
   "metadata": {},
   "outputs": [
    {
     "data": {
      "text/html": [
       "\n",
       "        <iframe\n",
       "            width=\"100%\"\n",
       "            height=\"600\"\n",
       "            src=\"http://pytorch.org/\"\n",
       "            frameborder=\"0\"\n",
       "            allowfullscreen\n",
       "            \n",
       "        ></iframe>\n",
       "        "
      ],
      "text/plain": [
       "<IPython.lib.display.IFrame at 0x2ca8c6e1550>"
      ]
     },
     "metadata": {},
     "output_type": "display_data"
    },
    {
     "data": {
      "text/plain": [
       "'success'"
      ]
     },
     "execution_count": 17,
     "metadata": {},
     "output_type": "execute_result"
    }
   ],
   "source": [
    "render_site(url)"
   ]
  },
  {
   "cell_type": "code",
   "execution_count": 18,
   "metadata": {},
   "outputs": [
    {
     "name": "stdout",
     "output_type": "stream",
     "text": [
      "[2023-03-11 19:07:51,692: ERROR: site]: unknown url type: 'hht'\n",
      "Traceback (most recent call last):\n",
      "  File \"D:\\iNeuron\\Projects\\ProjectOne\\NYRENDERER\\src\\NYRenderer\\site.py\", line 11, in is_valid\n",
      "    response_status = urllib.request.urlopen(url).getcode()\n",
      "  File \"d:\\iNeuron\\Projects\\ProjectOne\\NYRENDERER\\env\\lib\\urllib\\request.py\", line 214, in urlopen\n",
      "    return opener.open(url, data, timeout)\n",
      "  File \"d:\\iNeuron\\Projects\\ProjectOne\\NYRENDERER\\env\\lib\\urllib\\request.py\", line 501, in open\n",
      "    req = Request(fullurl, data)\n",
      "  File \"d:\\iNeuron\\Projects\\ProjectOne\\NYRENDERER\\env\\lib\\urllib\\request.py\", line 320, in __init__\n",
      "    self.full_url = url\n",
      "  File \"d:\\iNeuron\\Projects\\ProjectOne\\NYRENDERER\\env\\lib\\urllib\\request.py\", line 346, in full_url\n",
      "    self._parse()\n",
      "  File \"d:\\iNeuron\\Projects\\ProjectOne\\NYRENDERER\\env\\lib\\urllib\\request.py\", line 375, in _parse\n",
      "    raise ValueError(\"unknown url type: %r\" % self.full_url)\n",
      "ValueError: unknown url type: 'hht'\n"
     ]
    },
    {
     "ename": "InvalideURLException",
     "evalue": "Not Valid URL",
     "output_type": "error",
     "traceback": [
      "\u001b[1;31m---------------------------------------------------------------------------\u001b[0m",
      "\u001b[1;31mInvalideURLException\u001b[0m                      Traceback (most recent call last)",
      "Cell \u001b[1;32mIn[18], line 1\u001b[0m\n\u001b[1;32m----> 1\u001b[0m render_site(\u001b[39m\"\u001b[39;49m\u001b[39mhht\u001b[39;49m\u001b[39m\"\u001b[39;49m)\n",
      "File \u001b[1;32md:\\iNeuron\\Projects\\ProjectOne\\NYRENDERER\\env\\lib\\site-packages\\ensure\\main.py:849\u001b[0m, in \u001b[0;36mWrappedFunctionReturn.__call__\u001b[1;34m(self, *args, **kwargs)\u001b[0m\n\u001b[0;32m    841\u001b[0m         msg \u001b[39m=\u001b[39m (\n\u001b[0;32m    842\u001b[0m             \u001b[39m\"\u001b[39m\u001b[39mArgument \u001b[39m\u001b[39m{arg}\u001b[39;00m\u001b[39m of type \u001b[39m\u001b[39m{valt}\u001b[39;00m\u001b[39m to \u001b[39m\u001b[39m{f}\u001b[39;00m\u001b[39m \u001b[39m\u001b[39m\"\u001b[39m\n\u001b[0;32m    843\u001b[0m             \u001b[39m\"\u001b[39m\u001b[39mdoes not match annotation type \u001b[39m\u001b[39m{t}\u001b[39;00m\u001b[39m\"\u001b[39m\n\u001b[0;32m    844\u001b[0m         )\n\u001b[0;32m    845\u001b[0m         \u001b[39mraise\u001b[39;00m EnsureError(msg\u001b[39m.\u001b[39mformat(\n\u001b[0;32m    846\u001b[0m             arg\u001b[39m=\u001b[39marg, f\u001b[39m=\u001b[39m\u001b[39mself\u001b[39m\u001b[39m.\u001b[39mf, t\u001b[39m=\u001b[39mtempl, valt\u001b[39m=\u001b[39m\u001b[39mtype\u001b[39m(value)\n\u001b[0;32m    847\u001b[0m         ))\n\u001b[1;32m--> 849\u001b[0m return_val \u001b[39m=\u001b[39m \u001b[39mself\u001b[39m\u001b[39m.\u001b[39mf(\u001b[39m*\u001b[39margs, \u001b[39m*\u001b[39m\u001b[39m*\u001b[39mkwargs)\n\u001b[0;32m    850\u001b[0m \u001b[39mif\u001b[39;00m \u001b[39mnot\u001b[39;00m \u001b[39misinstance\u001b[39m(return_val, \u001b[39mself\u001b[39m\u001b[39m.\u001b[39mreturn_templ):\n\u001b[0;32m    851\u001b[0m     msg \u001b[39m=\u001b[39m (\n\u001b[0;32m    852\u001b[0m         \u001b[39m\"\u001b[39m\u001b[39mReturn value of \u001b[39m\u001b[39m{f}\u001b[39;00m\u001b[39m of type \u001b[39m\u001b[39m{valt}\u001b[39;00m\u001b[39m \u001b[39m\u001b[39m\"\u001b[39m\n\u001b[0;32m    853\u001b[0m         \u001b[39m\"\u001b[39m\u001b[39mdoes not match annotation type \u001b[39m\u001b[39m{t}\u001b[39;00m\u001b[39m\"\u001b[39m\n\u001b[0;32m    854\u001b[0m     )\n",
      "File \u001b[1;32mD:\\iNeuron\\Projects\\ProjectOne\\NYRENDERER\\src\\NYRenderer\\site.py:30\u001b[0m, in \u001b[0;36mrender_site\u001b[1;34m(url, width, height)\u001b[0m\n\u001b[0;32m     28\u001b[0m         \u001b[39mraise\u001b[39;00m InvalideURLException\n\u001b[0;32m     29\u001b[0m \u001b[39mexcept\u001b[39;00m \u001b[39mException\u001b[39;00m \u001b[39mas\u001b[39;00m e:\n\u001b[1;32m---> 30\u001b[0m     \u001b[39mraise\u001b[39;00m e\n",
      "File \u001b[1;32mD:\\iNeuron\\Projects\\ProjectOne\\NYRENDERER\\src\\NYRenderer\\site.py:28\u001b[0m, in \u001b[0;36mrender_site\u001b[1;34m(url, width, height)\u001b[0m\n\u001b[0;32m     26\u001b[0m         \u001b[39mreturn\u001b[39;00m \u001b[39m\"\u001b[39m\u001b[39msuccess\u001b[39m\u001b[39m\"\u001b[39m\n\u001b[0;32m     27\u001b[0m     \u001b[39melse\u001b[39;00m:\n\u001b[1;32m---> 28\u001b[0m         \u001b[39mraise\u001b[39;00m InvalideURLException\n\u001b[0;32m     29\u001b[0m \u001b[39mexcept\u001b[39;00m \u001b[39mException\u001b[39;00m \u001b[39mas\u001b[39;00m e:\n\u001b[0;32m     30\u001b[0m     \u001b[39mraise\u001b[39;00m e\n",
      "\u001b[1;31mInvalideURLException\u001b[0m: Not Valid URL"
     ]
    }
   ],
   "source": [
    "render_site(\"hht\")"
   ]
  },
  {
   "cell_type": "code",
   "execution_count": null,
   "metadata": {},
   "outputs": [],
   "source": []
  }
 ],
 "metadata": {
  "kernelspec": {
   "display_name": "Python 3",
   "language": "python",
   "name": "python3"
  },
  "language_info": {
   "codemirror_mode": {
    "name": "ipython",
    "version": 3
   },
   "file_extension": ".py",
   "mimetype": "text/x-python",
   "name": "python",
   "nbconvert_exporter": "python",
   "pygments_lexer": "ipython3",
   "version": "3.9.16"
  },
  "orig_nbformat": 4
 },
 "nbformat": 4,
 "nbformat_minor": 2
}
