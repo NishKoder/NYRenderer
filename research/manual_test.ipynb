{
 "cells": [
  {
   "cell_type": "code",
   "execution_count": 3,
   "metadata": {},
   "outputs": [
    {
     "data": {
      "text/plain": [
       "('yuH4iRcggMw', 0)"
      ]
     },
     "execution_count": 3,
     "metadata": {},
     "output_type": "execute_result"
    }
   ],
   "source": [
    "URL1 = \"https://www.youtube.com/watch?v=yuH4iRcggMw\"\n",
    "URL1.split('=')[-1],0"
   ]
  },
  {
   "cell_type": "code",
   "execution_count": 4,
   "metadata": {},
   "outputs": [
    {
     "data": {
      "text/plain": [
       "'yuH4iRcggMw'"
      ]
     },
     "execution_count": 4,
     "metadata": {},
     "output_type": "execute_result"
    }
   ],
   "source": [
    "URL2 = \"https://youtu.be/yuH4iRcggMw\"\n",
    "URL2.split('/')[-1]"
   ]
  },
  {
   "cell_type": "code",
   "execution_count": 5,
   "metadata": {},
   "outputs": [
    {
     "data": {
      "text/plain": [
       "['https://youtu.be/yuH4iRcggMw?t', '60']"
      ]
     },
     "execution_count": 5,
     "metadata": {},
     "output_type": "execute_result"
    }
   ],
   "source": [
    "URL3 = \"https://youtu.be/yuH4iRcggMw?t=60\"\n",
    "URL3.split('=')"
   ]
  },
  {
   "cell_type": "code",
   "execution_count": 6,
   "metadata": {},
   "outputs": [
    {
     "data": {
      "text/plain": [
       "['https:', '', 'youtu.be', 'yuH4iRcggMw?t']"
      ]
     },
     "execution_count": 6,
     "metadata": {},
     "output_type": "execute_result"
    }
   ],
   "source": [
    "URL3.split('=')[0].split(\"/\")"
   ]
  },
  {
   "cell_type": "code",
   "execution_count": 7,
   "metadata": {},
   "outputs": [
    {
     "data": {
      "text/plain": [
       "'yuH4iRcggMw'"
      ]
     },
     "execution_count": 7,
     "metadata": {},
     "output_type": "execute_result"
    }
   ],
   "source": [
    "URL3.split('=')[0].split(\"/\")[-1][:-2]"
   ]
  },
  {
   "cell_type": "code",
   "execution_count": 8,
   "metadata": {},
   "outputs": [
    {
     "data": {
      "text/plain": [
       "['https://www.youtube.com/watch?v', 'yuH4iRcggMw&t', '60s']"
      ]
     },
     "execution_count": 8,
     "metadata": {},
     "output_type": "execute_result"
    }
   ],
   "source": [
    "URL4 = \"https://www.youtube.com/watch?v=yuH4iRcggMw&t=60s\"\n",
    "URL4.split(\"=\")\n"
   ]
  },
  {
   "cell_type": "code",
   "execution_count": 9,
   "metadata": {},
   "outputs": [
    {
     "data": {
      "text/plain": [
       "'yuH4iRcggMw'"
      ]
     },
     "execution_count": 9,
     "metadata": {},
     "output_type": "execute_result"
    }
   ],
   "source": [
    "URL4.split(\"=\")[-2][:-2]\n"
   ]
  },
  {
   "cell_type": "markdown",
   "metadata": {},
   "source": []
  },
  {
   "cell_type": "code",
   "execution_count": 10,
   "metadata": {},
   "outputs": [],
   "source": [
    "from NYRenderer import render_youtube_video"
   ]
  },
  {
   "cell_type": "code",
   "execution_count": 11,
   "metadata": {},
   "outputs": [
    {
     "name": "stdout",
     "output_type": "stream",
     "text": [
      "[2023-03-11 13:33:15,156: INFO: youtube]: video starts at: 0\n",
      "[2023-03-11 13:33:15,157: INFO: youtube]: embed URL: https://www.youtube.com/embed/yuH4iRcggMw?start=0\n"
     ]
    },
    {
     "data": {
      "text/html": [
       "<iframe \n",
       "            width=\"780\" height=\"600\" \n",
       "            src=\"https://www.youtube.com/embed/yuH4iRcggMw?start=0\" \n",
       "            title=\"YouTube video player\" \n",
       "            frameborder=\"0\" \n",
       "            allow=\"accelerometer; \n",
       "            autoplay; clipboard-write; \n",
       "            encrypted-media; gyroscope; \n",
       "            picture-in-picture; web-share\" \n",
       "            allowfullscreen></iframe>\n",
       "            "
      ],
      "text/plain": [
       "<IPython.core.display.HTML object>"
      ]
     },
     "metadata": {},
     "output_type": "display_data"
    },
    {
     "data": {
      "text/plain": [
       "'success'"
      ]
     },
     "execution_count": 11,
     "metadata": {},
     "output_type": "execute_result"
    }
   ],
   "source": [
    "render_youtube_video(URL1)"
   ]
  },
  {
   "cell_type": "code",
   "execution_count": 12,
   "metadata": {},
   "outputs": [
    {
     "name": "stdout",
     "output_type": "stream",
     "text": [
      "[2023-03-11 13:33:16,206: INFO: youtube]: video starts at: 0\n",
      "[2023-03-11 13:33:16,207: INFO: youtube]: embed URL: https://www.youtube.com/embed/yuH4iRcggMw?start=0\n"
     ]
    },
    {
     "data": {
      "text/html": [
       "<iframe \n",
       "            width=\"780\" height=\"600\" \n",
       "            src=\"https://www.youtube.com/embed/yuH4iRcggMw?start=0\" \n",
       "            title=\"YouTube video player\" \n",
       "            frameborder=\"0\" \n",
       "            allow=\"accelerometer; \n",
       "            autoplay; clipboard-write; \n",
       "            encrypted-media; gyroscope; \n",
       "            picture-in-picture; web-share\" \n",
       "            allowfullscreen></iframe>\n",
       "            "
      ],
      "text/plain": [
       "<IPython.core.display.HTML object>"
      ]
     },
     "metadata": {},
     "output_type": "display_data"
    },
    {
     "data": {
      "text/plain": [
       "'success'"
      ]
     },
     "execution_count": 12,
     "metadata": {},
     "output_type": "execute_result"
    }
   ],
   "source": [
    "render_youtube_video(URL2)"
   ]
  },
  {
   "cell_type": "code",
   "execution_count": 13,
   "metadata": {},
   "outputs": [
    {
     "name": "stdout",
     "output_type": "stream",
     "text": [
      "[2023-03-11 13:33:17,224: INFO: youtube]: video starts at: 60\n",
      "[2023-03-11 13:33:17,225: INFO: youtube]: embed URL: https://www.youtube.com/embed/yuH4iRcggMw?start=60\n"
     ]
    },
    {
     "data": {
      "text/html": [
       "<iframe \n",
       "            width=\"780\" height=\"600\" \n",
       "            src=\"https://www.youtube.com/embed/yuH4iRcggMw?start=60\" \n",
       "            title=\"YouTube video player\" \n",
       "            frameborder=\"0\" \n",
       "            allow=\"accelerometer; \n",
       "            autoplay; clipboard-write; \n",
       "            encrypted-media; gyroscope; \n",
       "            picture-in-picture; web-share\" \n",
       "            allowfullscreen></iframe>\n",
       "            "
      ],
      "text/plain": [
       "<IPython.core.display.HTML object>"
      ]
     },
     "metadata": {},
     "output_type": "display_data"
    },
    {
     "data": {
      "text/plain": [
       "'success'"
      ]
     },
     "execution_count": 13,
     "metadata": {},
     "output_type": "execute_result"
    }
   ],
   "source": [
    "render_youtube_video(URL3)"
   ]
  },
  {
   "cell_type": "code",
   "execution_count": 14,
   "metadata": {},
   "outputs": [
    {
     "name": "stdout",
     "output_type": "stream",
     "text": [
      "[2023-03-11 13:33:17,965: INFO: youtube]: video starts at: 60\n",
      "[2023-03-11 13:33:18,054: INFO: youtube]: embed URL: https://www.youtube.com/embed/yuH4iRcggMw?start=60\n"
     ]
    },
    {
     "data": {
      "text/html": [
       "<iframe \n",
       "            width=\"780\" height=\"600\" \n",
       "            src=\"https://www.youtube.com/embed/yuH4iRcggMw?start=60\" \n",
       "            title=\"YouTube video player\" \n",
       "            frameborder=\"0\" \n",
       "            allow=\"accelerometer; \n",
       "            autoplay; clipboard-write; \n",
       "            encrypted-media; gyroscope; \n",
       "            picture-in-picture; web-share\" \n",
       "            allowfullscreen></iframe>\n",
       "            "
      ],
      "text/plain": [
       "<IPython.core.display.HTML object>"
      ]
     },
     "metadata": {},
     "output_type": "display_data"
    },
    {
     "data": {
      "text/plain": [
       "'success'"
      ]
     },
     "execution_count": 14,
     "metadata": {},
     "output_type": "execute_result"
    }
   ],
   "source": [
    "render_youtube_video(URL4)"
   ]
  }
 ],
 "metadata": {
  "kernelspec": {
   "display_name": "Python 3",
   "language": "python",
   "name": "python3"
  },
  "language_info": {
   "codemirror_mode": {
    "name": "ipython",
    "version": 3
   },
   "file_extension": ".py",
   "mimetype": "text/x-python",
   "name": "python",
   "nbconvert_exporter": "python",
   "pygments_lexer": "ipython3",
   "version": "3.9.16"
  },
  "orig_nbformat": 4
 },
 "nbformat": 4,
 "nbformat_minor": 2
}
